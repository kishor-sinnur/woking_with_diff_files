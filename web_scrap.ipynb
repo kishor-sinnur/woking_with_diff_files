{
 "cells": [
  {
   "cell_type": "code",
   "execution_count": null,
   "metadata": {},
   "outputs": [],
   "source": [
    "import requests\n",
    "from bs4 import BeautifulSoup\n",
    "import pandas as pd\n",
    "\n",
    "# List of stocks\n",
    "nse_stocks = [\n",
    "    \"RELIANCE\", \"TCS\", \"HDFCBANK\", \"INFY\", \"ICICIBANK\", \"SBIN\", \"LT\", \n",
    "    \"BHARTIARTL\", \"ITC\", \"AXISBANK\", \"KOTAKBANK\", \"HINDUNILVR\", \"WIPRO\", \n",
    "    \"BAJFINANCE\", \"MARUTI\", \"ASIANPAINT\", \"HCLTECH\", \"TATAMOTORS\", \"ADANIENT\", \"M&M\"\n",
    "]\n",
    "\n",
    "# Create an empty dataframe to store the results\n",
    "data = []\n",
    "\n",
    "# Loop through each stock and make a request\n",
    "for stock in nse_stocks:\n",
    "    url = f\"https://www.google.com/finance/quote/{stock}:NSE\"\n",
    "    \n",
    "    try:\n",
    "        # Send a request to the stock page\n",
    "        web_request = requests.get(url)\n",
    "        \n",
    "        if web_request.status_code == 200:\n",
    "            soup = BeautifulSoup(web_request.content, 'html.parser')\n",
    "\n",
    "            # Function to handle None values and get the text by class\n",
    "            def get_text_by_class(class_name):\n",
    "                element = soup.find(\"div\", class_=class_name)\n",
    "                if element:\n",
    "                    return element.get_text(strip=True)\n",
    "                return \"Not Available\"\n",
    "            \n",
    "            # Stock data\n",
    "            stock_data = {\n",
    "                \"Stock\": stock,\n",
    "                \"Previous Close\": get_text_by_class(\"YMlKec fxKbKc\"),  # Class for Previous Close\n",
    "                \"Day Range\": get_text_by_class(\"P6K39c\"),  # Class for Day Range\n",
    "                \"Year Range\": get_text_by_class(\"P6K39c\"),  # Class for Year Range\n",
    "                \"Market Cap\": get_text_by_class(\"P6K39c\"),  # Class for Market Cap\n",
    "                \"Avg. Volume\": get_text_by_class(\"P6K39c\"),  # Class for Avg. Volume\n",
    "                \"P/E Ratio\": get_text_by_class(\"P6K39c\"),  # Class for P/E Ratio\n",
    "                \"Dividend Yield\": get_text_by_class(\"P6K39c\"),  # Class for Dividend Yield\n",
    "                \"Primary Exchange\": get_text_by_class(\"P6K39c\")  # Class for Primary Exchange\n",
    "            }\n",
    "\n",
    "            data.append(stock_data)\n",
    "            print(f\"Data fetched successfully for {stock}\")\n",
    "        else:\n",
    "            print(f\"Failed to fetch data for {stock}. Status Code: {web_request.status_code}\")\n",
    "    except Exception as e:\n",
    "        print(f\"Error fetching data for {stock}: {e}\")\n",
    "\n",
    "# Create a DataFrame from the collected data\n",
    "df = pd.DataFrame(data)\n",
    "\n",
    "# Show the DataFrame\n",
    "df.to_csv('stocks.csv', index=False)\n"
   ]
  },
  {
   "cell_type": "code",
   "execution_count": null,
   "metadata": {},
   "outputs": [],
   "source": []
  }
 ],
 "metadata": {
  "kernelspec": {
   "display_name": "Python 3",
   "language": "python",
   "name": "python3"
  },
  "language_info": {
   "name": "python",
   "version": "3.12.4"
  }
 },
 "nbformat": 4,
 "nbformat_minor": 2
}
