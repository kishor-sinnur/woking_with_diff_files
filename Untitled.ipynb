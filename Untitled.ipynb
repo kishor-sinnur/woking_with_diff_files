{
 "cells": [
  {
   "cell_type": "code",
   "execution_count": 3,
   "id": "df99f06c-b9d6-4b0d-bf14-6be69c4c3be7",
   "metadata": {},
   "outputs": [
    {
     "name": "stdout",
     "output_type": "stream",
     "text": [
      "Data fetched successfully for RELIANCE\n",
      "Data fetched successfully for TCS\n",
      "Data fetched successfully for HDFCBANK\n",
      "Data fetched successfully for INFY\n",
      "Data fetched successfully for ICICIBANK\n",
      "Data fetched successfully for SBIN\n",
      "Data fetched successfully for LT\n",
      "Data fetched successfully for BHARTIARTL\n",
      "Data fetched successfully for ITC\n",
      "Data fetched successfully for AXISBANK\n",
      "Data fetched successfully for KOTAKBANK\n",
      "Data fetched successfully for HINDUNILVR\n",
      "Data fetched successfully for WIPRO\n",
      "Data fetched successfully for BAJFINANCE\n",
      "Data fetched successfully for MARUTI\n",
      "Data fetched successfully for ASIANPAINT\n",
      "Data fetched successfully for HCLTECH\n",
      "Data fetched successfully for TATAMOTORS\n",
      "Data fetched successfully for ADANIENT\n",
      "Data fetched successfully for M&M\n"
     ]
    }
   ],
   "source": [
    "import requests\n",
    "from bs4 import BeautifulSoup\n",
    "import pandas as pd\n",
    "\n",
    "# List of stocks\n",
    "nse_stocks = [\n",
    "    \"RELIANCE\", \"TCS\", \"HDFCBANK\", \"INFY\", \"ICICIBANK\", \"SBIN\", \"LT\", \n",
    "    \"BHARTIARTL\", \"ITC\", \"AXISBANK\", \"KOTAKBANK\", \"HINDUNILVR\", \"WIPRO\", \n",
    "    \"BAJFINANCE\", \"MARUTI\", \"ASIANPAINT\", \"HCLTECH\", \"TATAMOTORS\", \"ADANIENT\", \"M&M\"\n",
    "]\n",
    "\n",
    "# Create an empty dataframe to store the results\n",
    "data = []\n",
    "\n",
    "# Loop through each stock and make a request\n",
    "for stock in nse_stocks:\n",
    "    url = f\"https://www.google.com/finance/quote/{stock}:NSE\"\n",
    "    \n",
    "    try:\n",
    "        # Send a request to the stock page\n",
    "        web_request = requests.get(url)\n",
    "        \n",
    "        if web_request.status_code == 200:\n",
    "            soup = BeautifulSoup(web_request.content, 'html.parser')\n",
    "\n",
    "            # Function to handle None values and get the text by class\n",
    "            def get_text_by_class(class_name):\n",
    "                element = soup.find(\"div\", class_=class_name)\n",
    "                if element:\n",
    "                    return element.get_text(strip=True)\n",
    "                return \"Not Available\"\n",
    "            \n",
    "            # Stock data\n",
    "            stock_data = {\n",
    "                \"Stock\": stock,\n",
    "                \"Previous Close\": get_text_by_class(\"YMlKec fxKbKc\"),  # Class for Previous Close\n",
    "                \"Day Range\": get_text_by_class(\"P6K39c\"),  # Class for Day Range\n",
    "                \"Year Range\": get_text_by_class(\"P6K39c\"),  # Class for Year Range\n",
    "                \"Market Cap\": get_text_by_class(\"P6K39c\"),  # Class for Market Cap\n",
    "                \"Avg. Volume\": get_text_by_class(\"P6K39c\"),  # Class for Avg. Volume\n",
    "                \"P/E Ratio\": get_text_by_class(\"P6K39c\"),  # Class for P/E Ratio\n",
    "                \"Dividend Yield\": get_text_by_class(\"P6K39c\"),  # Class for Dividend Yield\n",
    "                \"Primary Exchange\": get_text_by_class(\"P6K39c\")  # Class for Primary Exchange\n",
    "            }\n",
    "\n",
    "            data.append(stock_data)\n",
    "            print(f\"Data fetched successfully for {stock}\")\n",
    "        else:\n",
    "            print(f\"Failed to fetch data for {stock}. Status Code: {web_request.status_code}\")\n",
    "    except Exception as e:\n",
    "        print(f\"Error fetching data for {stock}: {e}\")\n",
    "\n",
    "# Create a DataFrame from the collected data\n",
    "df = pd.DataFrame(data)\n",
    "\n",
    "# Show the DataFrame\n",
    "df.to_csv('stocks.csv', index=False)\n"
   ]
  },
  {
   "cell_type": "code",
   "execution_count": null,
   "id": "a25c2cff-9554-47ca-bca6-e2a19fcef12c",
   "metadata": {},
   "outputs": [],
   "source": []
  }
 ],
 "metadata": {
  "kernelspec": {
   "display_name": "Python 3 (ipykernel)",
   "language": "python",
   "name": "python3"
  },
  "language_info": {
   "codemirror_mode": {
    "name": "ipython",
    "version": 3
   },
   "file_extension": ".py",
   "mimetype": "text/x-python",
   "name": "python",
   "nbconvert_exporter": "python",
   "pygments_lexer": "ipython3",
   "version": "3.12.4"
  }
 },
 "nbformat": 4,
 "nbformat_minor": 5
}
